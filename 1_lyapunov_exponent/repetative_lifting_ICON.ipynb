{
  "cells": [
    {
      "cell_type": "markdown",
      "metadata": {
        "id": "view-in-github",
        "colab_type": "text"
      },
      "source": [
        "<a href=\"https://colab.research.google.com/github/farghea/Pose-Detection-Biomechanics/blob/main/repetative_lifting_ICON.ipynb\" target=\"_parent\"><img src=\"https://colab.research.google.com/assets/colab-badge.svg\" alt=\"Open In Colab\"/></a>"
      ]
    },
    {
      "cell_type": "code",
      "execution_count": null,
      "metadata": {
        "colab": {
          "base_uri": "https://localhost:8080/",
          "height": 539
        },
        "id": "B9kjSIzofhNc",
        "outputId": "d2a68c79-e736-4c2d-9ef6-e6c5942f76b4"
      },
      "outputs": [
        {
          "output_type": "stream",
          "name": "stdout",
          "text": [
            "rm: cannot remove '/content/ICON': No such file or directory\n",
            "Cloning into 'ICON'...\n",
            "remote: Enumerating objects: 2695, done.\u001b[K\n",
            "remote: Counting objects: 100% (2695/2695), done.\u001b[K\n",
            "remote: Compressing objects: 100% (839/839), done.\u001b[K\n",
            "remote: Total 2695 (delta 1878), reused 2615 (delta 1830), pack-reused 0\u001b[K\n",
            "Receiving objects: 100% (2695/2695), 155.51 MiB | 29.80 MiB/s, done.\n",
            "Resolving deltas: 100% (1878/1878), done.\n",
            "Looking in indexes: https://pypi.org/simple, https://us-python.pkg.dev/colab-wheels/public/simple/\n",
            "Collecting trimesh\n",
            "  Downloading trimesh-3.22.1-py3-none-any.whl (681 kB)\n",
            "\u001b[2K     \u001b[90m━━━━━━━━━━━━━━━━━━━━━━━━━━━━━━━━━━━━━━\u001b[0m \u001b[32m681.6/681.6 kB\u001b[0m \u001b[31m24.2 MB/s\u001b[0m eta \u001b[36m0:00:00\u001b[0m\n",
            "\u001b[?25hCollecting numpy (from trimesh)\n",
            "  Downloading numpy-1.25.0-cp310-cp310-manylinux_2_17_x86_64.manylinux2014_x86_64.whl (17.6 MB)\n",
            "\u001b[2K     \u001b[90m━━━━━━━━━━━━━━━━━━━━━━━━━━━━━━━━━━━━━━━━\u001b[0m \u001b[32m17.6/17.6 MB\u001b[0m \u001b[31m23.0 MB/s\u001b[0m eta \u001b[36m0:00:00\u001b[0m\n",
            "\u001b[?25hInstalling collected packages: numpy, trimesh\n",
            "  Attempting uninstall: numpy\n",
            "    Found existing installation: numpy 1.22.4\n",
            "    Uninstalling numpy-1.22.4:\n",
            "      Successfully uninstalled numpy-1.22.4\n",
            "\u001b[31mERROR: pip's dependency resolver does not currently take into account all the packages that are installed. This behaviour is the source of the following dependency conflicts.\n",
            "numba 0.56.4 requires numpy<1.24,>=1.18, but you have numpy 1.25.0 which is incompatible.\n",
            "tensorflow 2.12.0 requires numpy<1.24,>=1.22, but you have numpy 1.25.0 which is incompatible.\u001b[0m\u001b[31m\n",
            "\u001b[0mSuccessfully installed numpy-1.25.0 trimesh-3.22.1\n"
          ]
        },
        {
          "output_type": "display_data",
          "data": {
            "application/vnd.colab-display-data+json": {
              "pip_warning": {
                "packages": [
                  "numpy"
                ]
              }
            }
          },
          "metadata": {}
        }
      ],
      "source": [
        "!rm -r /content/ICON\n",
        "\n",
        "# get the code of ICON\n",
        "!git clone https://github.com/YuliangXiu/ICON.git\n",
        "\n",
        "!pip install --upgrade --force-reinstall trimesh"
      ]
    },
    {
      "cell_type": "code",
      "source": [
        "# - - - - Getting data for validation (start)\n",
        "from google.colab import drive\n",
        "drive.mount('/content/drive')\n"
      ],
      "metadata": {
        "colab": {
          "base_uri": "https://localhost:8080/"
        },
        "id": "hRQFp_KSHAP9",
        "outputId": "e662cd3c-e784-4178-9372-5767dad9c8e2"
      },
      "execution_count": null,
      "outputs": [
        {
          "output_type": "stream",
          "name": "stdout",
          "text": [
            "Drive already mounted at /content/drive; to attempt to forcibly remount, call drive.mount(\"/content/drive\", force_remount=True).\n"
          ]
        }
      ]
    },
    {
      "cell_type": "code",
      "execution_count": null,
      "metadata": {
        "id": "NiUnXdDcaAtJ"
      },
      "outputs": [],
      "source": [
        "# fix environment.yaml\n",
        "with open(f'/content/ICON/environment.yaml', 'r+') as file:\n",
        "    data = file.readlines()\n",
        "    data[11] = \"  - pytorch-cuda\\n\"\n",
        "    data.append(\"\\n  - scipy=1.7.2\")  # add the new line\n",
        "    file.seek(0)\n",
        "    file.writelines(data)\n",
        "    file.truncate()\n",
        "\n",
        "\n",
        "mypath = f'/content/ICON/requirements.txt'\n",
        "# Open the file in read mode\n",
        "with open(mypath, 'r') as file:\n",
        "    # Read the contents of the file into a list\n",
        "    lines = file.readlines()\n",
        "\n",
        "# Loop through the list and replace the matching line\n",
        "for i in range(len(lines)):\n",
        "    if 'open3d' in lines[i]:\n",
        "        lines[i] = 'open3d==0.16.0\\n'\n",
        "\n",
        "# Open the file in write mode and write the modified contents\n",
        "with open(mypath, 'w') as file:\n",
        "    file.writelines(lines)\n"
      ]
    },
    {
      "cell_type": "code",
      "execution_count": 2,
      "metadata": {
        "id": "OHLjIQUqs7GS"
      },
      "outputs": [],
      "source": [
        "# package installation (will take ~15 min, just get a coffee)\n",
        "from IPython.display import clear_output\n",
        "%cd /content/ICON\n",
        "!bash colab.sh\n",
        "# clear_output()"
      ]
    },
    {
      "cell_type": "code",
      "execution_count": null,
      "metadata": {
        "id": "e4JgH6U9Jsmg",
        "colab": {
          "base_uri": "https://localhost:8080/"
        },
        "outputId": "6e3e83bc-d7dd-414d-9961-1fc7d3698fb9"
      },
      "outputs": [
        {
          "output_type": "stream",
          "name": "stdout",
          "text": [
            "/content/ICON\n"
          ]
        }
      ],
      "source": [
        "# download models and extra data (register required)\n",
        "%cd /content/ICON\n",
        "\n",
        "# hardcode username and password into the fetch_data.sh\n",
        "with open('fetch_data.sh', 'r+') as file:\n",
        "    data = file.readlines()\n",
        "\n",
        "    data[6] = \"\\n\"\n",
        "    data[7] = \"\\n\"\n",
        "    data[8] = \"\\n\"\n",
        "    # - - - - here you should enter your email and password regitered on ICON\n",
        "    data[9] = \"username=\\\"myemail@sever.com\\\"\\n\"\n",
        "    data[10] = \"password=\\\"mypassword\\\"\\n\"\n",
        "\n",
        "    data = data[:53]  # Remove optioanl downloads at the end of the file\n",
        "\n",
        "    file.seek(0)  # Move the pointer to the begining\n",
        "    file.writelines(data)\n",
        "    file.truncate()\n",
        "\n"
      ]
    },
    {
      "cell_type": "code",
      "execution_count": 1,
      "metadata": {
        "id": "9dXrsSBxYw2c"
      },
      "outputs": [],
      "source": [
        "!bash fetch_data.sh # input \"N\" to avoid downloading data used for training"
      ]
    },
    {
      "cell_type": "code",
      "execution_count": null,
      "metadata": {
        "id": "do-jgveGLnHm",
        "colab": {
          "base_uri": "https://localhost:8080/"
        },
        "outputId": "df3c9c28-fd29-470d-df59-bb093a04f2e7"
      },
      "outputs": [
        {
          "output_type": "stream",
          "name": "stdout",
          "text": [
            "/content/ICON\n"
          ]
        }
      ],
      "source": [
        "# download mesh_downsampling file\n",
        "!mkdir -p data/HPS/pymaf_data && cd data/HPS/pymaf_data/\n",
        "!pwd"
      ]
    },
    {
      "cell_type": "code",
      "execution_count": null,
      "metadata": {
        "id": "CZMoZ3KTLo4k",
        "colab": {
          "base_uri": "https://localhost:8080/"
        },
        "outputId": "f1c45f14-1be2-4b27-e2a7-625d1586f4ca"
      },
      "outputs": [
        {
          "output_type": "stream",
          "name": "stdout",
          "text": [
            "/content/ICON/data/HPS/pymaf_data\n",
            "--2023-06-24 02:44:03--  https://github.com/nkolot/GraphCMR/raw/master/data/mesh_downsampling.npz\n",
            "Resolving github.com (github.com)... 140.82.112.3\n",
            "Connecting to github.com (github.com)|140.82.112.3|:443... connected.\n",
            "HTTP request sent, awaiting response... 302 Found\n",
            "Location: https://raw.githubusercontent.com/nkolot/GraphCMR/master/data/mesh_downsampling.npz [following]\n",
            "--2023-06-24 02:44:03--  https://raw.githubusercontent.com/nkolot/GraphCMR/master/data/mesh_downsampling.npz\n",
            "Resolving raw.githubusercontent.com (raw.githubusercontent.com)... 185.199.110.133, 185.199.108.133, 185.199.111.133, ...\n",
            "Connecting to raw.githubusercontent.com (raw.githubusercontent.com)|185.199.110.133|:443... connected.\n",
            "HTTP request sent, awaiting response... 200 OK\n",
            "Length: 1720359 (1.6M) [application/octet-stream]\n",
            "Saving to: ‘mesh_downsampling.npz’\n",
            "\n",
            "mesh_downsampling.n 100%[===================>]   1.64M  --.-KB/s    in 0.01s   \n",
            "\n",
            "2023-06-24 02:44:03 (138 MB/s) - ‘mesh_downsampling.npz’ saved [1720359/1720359]\n",
            "\n"
          ]
        }
      ],
      "source": [
        "%cd data/HPS/pymaf_data/\n",
        "!wget https://github.com/nkolot/GraphCMR/raw/master/data/mesh_downsampling.npz"
      ]
    },
    {
      "cell_type": "code",
      "execution_count": null,
      "metadata": {
        "id": "IA5PNd2TLwLl",
        "colab": {
          "base_uri": "https://localhost:8080/"
        },
        "outputId": "9303bd5e-0b93-49e8-c750-861f6240eb0e"
      },
      "outputs": [
        {
          "output_type": "stream",
          "name": "stdout",
          "text": [
            "--2023-06-24 02:44:03--  http://visiondata.cis.upenn.edu/spin/data.tar.gz\n",
            "Resolving visiondata.cis.upenn.edu (visiondata.cis.upenn.edu)... 158.130.68.16\n",
            "Connecting to visiondata.cis.upenn.edu (visiondata.cis.upenn.edu)|158.130.68.16|:80... connected.\n",
            "HTTP request sent, awaiting response... 200 OK\n",
            "Length: 14960640 (14M) [application/x-gzip]\n",
            "Saving to: ‘data.tar.gz’\n",
            "\n",
            "data.tar.gz         100%[===================>]  14.27M  50.3MB/s    in 0.3s    \n",
            "\n",
            "2023-06-24 02:44:05 (50.3 MB/s) - ‘data.tar.gz’ saved [14960640/14960640]\n",
            "\n",
            "data/\n",
            "data/J_regressor_h36m.npy\n",
            "data/cube_parts.npy\n",
            "data/train.h5\n",
            "data/vertex_texture.npy\n",
            "data/smpl_mean_params.npz\n",
            "data/J_regressor_extra.npy\n",
            "data/gmm_08.pkl\n"
          ]
        }
      ],
      "source": [
        "# Model constants etc from https://github.com/nkolot/SPIN/blob/master/fetch_data.sh\n",
        "!wget http://visiondata.cis.upenn.edu/spin/data.tar.gz\n",
        "!tar xvf data.tar.gz\n",
        "!mv data/* .\n",
        "!rm -rf data && rm -f data.tar.gz"
      ]
    },
    {
      "cell_type": "code",
      "execution_count": null,
      "metadata": {
        "id": "aanQP5c7L1_P",
        "colab": {
          "base_uri": "https://localhost:8080/",
          "height": 1000
        },
        "outputId": "7e4e686c-e8d0-490c-99c5-6164864db547"
      },
      "outputs": [
        {
          "output_type": "stream",
          "name": "stdout",
          "text": [
            "Reading package lists... Done\n",
            "Building dependency tree       \n",
            "Reading state information... Done\n",
            "The following additional packages will be installed:\n",
            "  python-pip-whl python3-setuptools python3-wheel\n",
            "Suggested packages:\n",
            "  python-setuptools-doc\n",
            "The following NEW packages will be installed:\n",
            "  python-pip-whl python3-pip python3-setuptools python3-wheel\n",
            "0 upgraded, 4 newly installed, 0 to remove and 13 not upgraded.\n",
            "Need to get 2,389 kB of archives.\n",
            "After this operation, 4,933 kB of additional disk space will be used.\n",
            "Get:1 http://archive.ubuntu.com/ubuntu focal-updates/universe amd64 python-pip-whl all 20.0.2-5ubuntu1.9 [1,805 kB]\n",
            "Get:2 http://archive.ubuntu.com/ubuntu focal-updates/main amd64 python3-setuptools all 45.2.0-1ubuntu0.1 [330 kB]\n",
            "Get:3 http://archive.ubuntu.com/ubuntu focal-updates/universe amd64 python3-wheel all 0.34.2-1ubuntu0.1 [23.9 kB]\n",
            "Get:4 http://archive.ubuntu.com/ubuntu focal-updates/universe amd64 python3-pip all 20.0.2-5ubuntu1.9 [231 kB]\n",
            "Fetched 2,389 kB in 1s (2,852 kB/s)\n",
            "Selecting previously unselected package python-pip-whl.\n",
            "(Reading database ... 123069 files and directories currently installed.)\n",
            "Preparing to unpack .../python-pip-whl_20.0.2-5ubuntu1.9_all.deb ...\n",
            "Unpacking python-pip-whl (20.0.2-5ubuntu1.9) ...\n",
            "Selecting previously unselected package python3-setuptools.\n",
            "Preparing to unpack .../python3-setuptools_45.2.0-1ubuntu0.1_all.deb ...\n",
            "Unpacking python3-setuptools (45.2.0-1ubuntu0.1) ...\n",
            "Selecting previously unselected package python3-wheel.\n",
            "Preparing to unpack .../python3-wheel_0.34.2-1ubuntu0.1_all.deb ...\n",
            "Unpacking python3-wheel (0.34.2-1ubuntu0.1) ...\n",
            "Selecting previously unselected package python3-pip.\n",
            "Preparing to unpack .../python3-pip_20.0.2-5ubuntu1.9_all.deb ...\n",
            "Unpacking python3-pip (20.0.2-5ubuntu1.9) ...\n",
            "Setting up python3-setuptools (45.2.0-1ubuntu0.1) ...\n",
            "Setting up python3-wheel (0.34.2-1ubuntu0.1) ...\n",
            "Setting up python-pip-whl (20.0.2-5ubuntu1.9) ...\n",
            "Setting up python3-pip (20.0.2-5ubuntu1.9) ...\n",
            "Processing triggers for man-db (2.9.1-1) ...\n",
            "Looking in indexes: https://pypi.org/simple, https://us-python.pkg.dev/colab-wheels/public/simple/\n",
            "Collecting gdown\n",
            "  Downloading gdown-4.7.1-py3-none-any.whl (15 kB)\n",
            "Collecting filelock (from gdown)\n",
            "  Downloading filelock-3.12.2-py3-none-any.whl (10 kB)\n",
            "Requirement already satisfied: requests[socks] in /usr/local/lib/python3.8/site-packages (from gdown) (2.29.0)\n",
            "Collecting six (from gdown)\n",
            "  Using cached six-1.16.0-py2.py3-none-any.whl (11 kB)\n",
            "Collecting tqdm (from gdown)\n",
            "  Downloading tqdm-4.65.0-py3-none-any.whl (77 kB)\n",
            "\u001b[2K     \u001b[90m━━━━━━━━━━━━━━━━━━━━━━━━━━━━━━━━━━━━━━━━\u001b[0m \u001b[32m77.1/77.1 kB\u001b[0m \u001b[31m4.1 MB/s\u001b[0m eta \u001b[36m0:00:00\u001b[0m\n",
            "\u001b[?25hCollecting beautifulsoup4 (from gdown)\n",
            "  Using cached beautifulsoup4-4.12.2-py3-none-any.whl (142 kB)\n",
            "Collecting soupsieve>1.2 (from beautifulsoup4->gdown)\n",
            "  Using cached soupsieve-2.4.1-py3-none-any.whl (36 kB)\n",
            "Requirement already satisfied: charset-normalizer<4,>=2 in /usr/local/lib/python3.8/site-packages (from requests[socks]->gdown) (2.0.4)\n",
            "Requirement already satisfied: idna<4,>=2.5 in /usr/local/lib/python3.8/site-packages (from requests[socks]->gdown) (3.4)\n",
            "Requirement already satisfied: urllib3<1.27,>=1.21.1 in /usr/local/lib/python3.8/site-packages (from requests[socks]->gdown) (1.26.16)\n",
            "Requirement already satisfied: certifi>=2017.4.17 in /usr/local/lib/python3.8/site-packages (from requests[socks]->gdown) (2023.5.7)\n",
            "Requirement already satisfied: PySocks!=1.5.7,>=1.5.6 in /usr/local/lib/python3.8/site-packages (from requests[socks]->gdown) (1.7.1)\n",
            "Installing collected packages: tqdm, soupsieve, six, filelock, beautifulsoup4, gdown\n",
            "Successfully installed beautifulsoup4-4.12.2 filelock-3.12.2 gdown-4.7.1 six-1.16.0 soupsieve-2.4.1 tqdm-4.65.0\n",
            "\u001b[33mWARNING: Running pip as the 'root' user can result in broken permissions and conflicting behaviour with the system package manager. It is recommended to use a virtual environment instead: https://pip.pypa.io/warnings/venv\u001b[0m\u001b[33m\n",
            "\u001b[0m"
          ]
        },
        {
          "output_type": "display_data",
          "data": {
            "application/vnd.colab-display-data+json": {
              "pip_warning": {
                "packages": [
                  "six"
                ]
              }
            }
          },
          "metadata": {}
        }
      ],
      "source": [
        "# PyMAF pre-trained model (gdown>=4.6.0)\n",
        "!apt-get install python3-pip\n",
        "!pip install --upgrade gdown\n"
      ]
    },
    {
      "cell_type": "code",
      "execution_count": null,
      "metadata": {
        "id": "-Nnb7IFFMjN7",
        "colab": {
          "base_uri": "https://localhost:8080/"
        },
        "outputId": "0c5a49fd-ec39-4e05-dbd5-fb86d4e4d370"
      },
      "outputs": [
        {
          "output_type": "stream",
          "name": "stdout",
          "text": [
            "/content/ICON/data/HPS/pymaf_data\n",
            "Retrieving folder list\n",
            "Processing file 1YszE4kE1XPKW9gOua7FaeqWZLawFmVbh PyMAF_model_checkpoint.pt\n",
            "Retrieving folder list completed\n",
            "Building directory structure\n",
            "Building directory structure completed\n",
            "Downloading...\n",
            "From (uriginal): https://drive.google.com/uc?id=1YszE4kE1XPKW9gOua7FaeqWZLawFmVbh\n",
            "From (redirected): https://drive.google.com/uc?id=1YszE4kE1XPKW9gOua7FaeqWZLawFmVbh&confirm=t&uuid=c64c835c-097f-4643-b9b8-8875c1a00972\n",
            "To: /content/ICON/data/HPS/pymaf_data/pretrained_model/PyMAF_model_checkpoint.pt\n",
            "100% 276M/276M [00:04<00:00, 64.4MB/s]\n",
            "Download completed\n",
            "PyMAF done!\n"
          ]
        }
      ],
      "source": [
        "!pwd\n",
        "\n",
        "!gdown https://drive.google.com/drive/u/1/folders/1CkF79XRaZzdRlj6eJUt4W0nbTORv2t7O -O pretrained_model --folder\n",
        "!cd ../../..\n",
        "!echo \"PyMAF done!\""
      ]
    },
    {
      "cell_type": "code",
      "source": [
        "import pandas as pd\n",
        "\n",
        "# df = pd.read_excel('/content/coordinates.xlsx')\n",
        "data = {'x': [-0.110700, 0.110700, -0.110700, 0.110700, -0.125175, 0.137873, 0.1485, -0.130809, -0.586, 0.5518, -0.128266, 0.127777, -0.132639, 0.12024],\n",
        "        'y': [-0.062900, -0.062900, -0.062900, -0.062900, 0.527198, 0.533142, 0.554659, 0.550480, 0.104630, 0.163000, -0.413160, -0.402438, -0.416197, -0.414236],\n",
        "        'z': [-0.200000, -0.200000, 0.200000, 0.200000, 0.111593, 0.115610, -0.044290, -0.048432, 0.007800, 0.113940, -0.057373, -0.032136, 0.099296, 0.111557],\n",
        "        'name': ['pelvic', 'pelvic', 'pelvic', 'pelvic', 'shoulder', 'shoulder', 'shoulder', 'shoulder', 'hand', 'hand', 'knee', 'knee', 'knee', 'knee'],\n",
        "        'side': ['R', 'L', 'R', 'L', 'R', 'L', 'L', 'R', 'R', 'L', 'R', 'L', 'R', 'L'],\n",
        "        'ant_post': ['back', 'back', 'front', 'front', 'front', 'front', 'back', 'back', 'front', 'front', 'back', 'back', 'front', 'front'],\n",
        "        'indx': [6511, 3088, 6555, 1500, 5269, 1808, 707, 4197, 5511, 2210, 4550, 1049, 4530, 1046]}\n",
        "\n",
        "df = pd.DataFrame(data)\n"
      ],
      "metadata": {
        "id": "0M9oQfVS6pc2"
      },
      "execution_count": null,
      "outputs": []
    },
    {
      "cell_type": "code",
      "source": [
        "import trimesh\n",
        "import numpy as np\n",
        "\n",
        "def get_landmark_pnt(landmark_name, side, vertices):\n",
        "  mylogic = (df['name']==landmark_name) & (df['side']==side)\n",
        "  myindx = df.loc[mylogic, :]['indx'].to_numpy()\n",
        "  pnt = np.mean(vertices[myindx, :], axis=0)\n",
        "  return pnt\n",
        "\n",
        "\n",
        "def get_estimated_parameters(obj_file_name):\n",
        "  # read the \"obj\" file\n",
        "  mesh = trimesh.load_mesh(os.path.join(f'/content/ICON/results/icon-filter/obj/', obj_file_name))\n",
        "\n",
        "  # get landmark points\n",
        "  vertices = mesh.vertices\n",
        "  landmark_info = {'points': np.empty((0, 3)), 'landmark': [], 'side':[]}\n",
        "  for landmark_name in df['name'].unique():\n",
        "    for side in ['R', 'L']:\n",
        "      pnt = get_landmark_pnt(landmark_name, side, vertices)\n",
        "      #---\n",
        "      landmark_info['points'] = np.vstack((landmark_info['points'], np.array(pnt)))\n",
        "      landmark_info['landmark'].append(landmark_name)\n",
        "      landmark_info['side'].append(side)\n",
        "\n",
        "  def find_landmark_pnt(landmark, side):\n",
        "    indx = [i for i, (l, s) in enumerate(zip(landmark_info['landmark'], landmark_info['side'])) if l == landmark and s == side]\n",
        "    return landmark_info['points'][indx, :]\n",
        "\n",
        "  # calculate mid-hip\n",
        "  mid_hip = 0.5*(find_landmark_pnt('pelvic', 'L') + find_landmark_pnt('pelvic', 'R'))\n",
        "\n",
        "  # calculate mid-shoulder\n",
        "  mid_shoulder = 0.5*(find_landmark_pnt('shoulder', 'L') + find_landmark_pnt('shoulder', 'R'))\n",
        "\n",
        "  # calculate mid-knee\n",
        "  mid_knee = 0.5*(find_landmark_pnt('knee', 'L') + find_landmark_pnt('knee', 'R'))\n",
        "\n",
        "  # calculate mid-hand\n",
        "  mid_hand = 0.5*(find_landmark_pnt('hand', 'L') + find_landmark_pnt('hand', 'R'))\n",
        "  mid_hand = mid_hand[0]\n",
        "\n",
        "  # calculate shoulder length\n",
        "  shoulder_length = np.linalg.norm(find_landmark_pnt('knee', 'L')[0] - find_landmark_pnt('knee', 'R')[0])\n",
        "\n",
        "  # calculate flexion angle\n",
        "  vector1 = mid_hip - mid_knee\n",
        "  vector1 = vector1[0]\n",
        "  vector1 = vector1/np.linalg.norm(vector1)\n",
        "  vector1 = np.array([0, 1, 0])\n",
        "\n",
        "  vector2 = mid_shoulder - mid_hip\n",
        "  vector2 = vector2[0]\n",
        "  vector2 = vector2/np.linalg.norm(vector2)\n",
        "  flexion_angle = np.rad2deg(np.arccos(np.dot(vector1, vector2)))\n",
        "\n",
        "  # distance to hip\n",
        "  distance_to_hip = np.linalg.norm(mid_hand - mid_hip[0])\n",
        "  distance_to_hip = distance_to_hip/shoulder_length\n",
        "  return flexion_angle, distance_to_hip\n",
        "\n",
        "\n",
        "def run_model_and_get_parameters(file_name):\n",
        "  %cd /content/ICON\n",
        "  # run the test on examples\n",
        "  model = 'icon-filter'                     # icon-filter / pifu / pamir\n",
        "\n",
        "  image_folder = '/content/'\n",
        "  filename = file_name+'.jpg'\n",
        "  print()\n",
        "  !source activate icon && python -m apps.infer -cfg ./configs/{model}.yaml -loop_smpl 100 -loop_cloth 1 -colab -gpu 0 -export_video -in_dir {image_folder}\n",
        "  # !source activate icon && python -m apps.infer -cfg ./configs/{model}.yaml -loop_smpl 100 -loop_cloth 1 -colab -gpu 0\n",
        "  %cd /content\n",
        "  obj_file_name = file_name + '_smpl.obj'\n",
        "  clear_output()\n",
        "  return get_estimated_parameters(obj_file_name)\n",
        "\n",
        "# clear_output()"
      ],
      "metadata": {
        "id": "Ba2VemgB7gqx"
      },
      "execution_count": null,
      "outputs": []
    },
    {
      "cell_type": "code",
      "source": [
        "%cd /content/"
      ],
      "metadata": {
        "colab": {
          "base_uri": "https://localhost:8080/"
        },
        "id": "0EPgWPWWUkAH",
        "outputId": "2853869d-58b0-4c82-bdc5-c30670727cea"
      },
      "execution_count": null,
      "outputs": [
        {
          "output_type": "stream",
          "name": "stdout",
          "text": [
            "/content\n"
          ]
        }
      ]
    },
    {
      "cell_type": "code",
      "source": [
        "import os\n",
        "import cv2\n",
        "import numpy as np\n",
        "\n",
        "# Delete \"frames\" directory with all files in it if it exists and create a new \"frames\" directory\n",
        "video_file = \"/content/drive/MyDrive/integrating new tech/validation/repetative lifting/rep_lift.MOV\"\n",
        "output_dir = \"frames\"\n",
        "\n",
        "if os.path.exists(output_dir):\n",
        "    !rm -rf {output_dir}\n",
        "os.makedirs(output_dir)\n",
        "\n",
        "# Read the video file\n",
        "cap = cv2.VideoCapture(video_file)\n",
        "\n",
        "# Get the video's frame rate\n",
        "frame_rate = cap.get(cv2.CAP_PROP_FPS)\n",
        "\n",
        "# Frame numbers to skip\n",
        "Frame_numbers_to_skip = 10\n",
        "\n",
        "frame_number = 0\n",
        "output_frame_number = 0\n",
        "\n",
        "# Create an array to store the time corresponding to each saved frame\n",
        "frame_times = []\n",
        "frame_time = 0\n",
        "while True:\n",
        "    # Read a frame from the video\n",
        "    ret, frame = cap.read()\n",
        "\n",
        "    # Break the loop if we've reached the end of the video\n",
        "    if not ret:\n",
        "        break\n",
        "    if frame_time > 25:\n",
        "      break\n",
        "\n",
        "    # Skip each 10 frames\n",
        "    if frame_number % Frame_numbers_to_skip == 0:\n",
        "        # Save the frame as a JPG file\n",
        "        output_path = os.path.join(output_dir, f\"frame{output_frame_number:d}.jpg\")\n",
        "        cv2.imwrite(output_path, frame)\n",
        "\n",
        "        # Calculate the time corresponding to this frame and append it to the array\n",
        "        frame_time = frame_number / frame_rate\n",
        "        frame_times.append(frame_time)\n",
        "\n",
        "        output_frame_number += 1\n",
        "        print(output_frame_number)\n",
        "\n",
        "    frame_number += 1\n",
        "\n",
        "\n",
        "# Release the video file\n",
        "cap.release()\n",
        "\n",
        "print(f\"Processed {output_frame_number} frames and saved them in the '{output_dir}' directory.\")\n",
        "\n",
        "# Convert the frame_times array to a numpy array\n",
        "frame_times = np.array(frame_times)\n"
      ],
      "metadata": {
        "colab": {
          "base_uri": "https://localhost:8080/"
        },
        "id": "UntraYY82cI1",
        "outputId": "f9f70682-a9d2-4827-bb04-a40230f32c08"
      },
      "execution_count": null,
      "outputs": [
        {
          "output_type": "stream",
          "name": "stdout",
          "text": [
            "1\n",
            "2\n",
            "3\n",
            "4\n",
            "5\n",
            "6\n",
            "7\n",
            "8\n",
            "9\n",
            "10\n",
            "11\n",
            "12\n",
            "13\n",
            "14\n",
            "15\n",
            "16\n",
            "17\n",
            "18\n",
            "19\n",
            "20\n",
            "21\n",
            "22\n",
            "23\n",
            "24\n",
            "25\n",
            "26\n",
            "27\n",
            "28\n",
            "29\n",
            "30\n",
            "31\n",
            "32\n",
            "33\n",
            "34\n",
            "35\n",
            "36\n",
            "37\n",
            "38\n",
            "39\n",
            "40\n",
            "41\n",
            "42\n",
            "43\n",
            "44\n",
            "45\n",
            "46\n",
            "47\n",
            "48\n",
            "49\n",
            "50\n",
            "51\n",
            "52\n",
            "53\n",
            "54\n",
            "55\n",
            "56\n",
            "57\n",
            "58\n",
            "59\n",
            "60\n",
            "61\n",
            "62\n",
            "63\n",
            "64\n",
            "65\n",
            "66\n",
            "67\n",
            "68\n",
            "69\n",
            "70\n",
            "71\n",
            "72\n",
            "73\n",
            "74\n",
            "75\n",
            "76\n",
            "Processed 76 frames and saved them in the 'frames' directory.\n"
          ]
        }
      ]
    },
    {
      "cell_type": "code",
      "source": [
        "def remove_all_files(directory):\n",
        "  # loop through all files in the directory\n",
        "  for filename in os.listdir(directory):\n",
        "      # create the file path by joining the directory path and filename\n",
        "      file_path = os.path.join(directory, filename)\n",
        "      # delete the file\n",
        "      os.remove(file_path)\n",
        "\n",
        "def find_smpl_obj_files(directory):\n",
        "    files = os.listdir(directory)\n",
        "    smpl_obj_files = [file for file in files if file.endswith('_smpl.obj')]\n",
        "\n",
        "    return smpl_obj_files\n"
      ],
      "metadata": {
        "id": "lxr5nGO8IXfG"
      },
      "execution_count": null,
      "outputs": []
    },
    {
      "cell_type": "code",
      "source": [
        "import os\n",
        "import shutil\n",
        "\n",
        "\n",
        "analysis_results = {\n",
        "    'time':     [],\n",
        "    'frame':       [],\n",
        "    'flex_pose':   [],\n",
        "    'dist_pose':    []}\n",
        "\n",
        "\n",
        "try:\n",
        "  # deleting all object files from the results folder\n",
        "  remove_all_files(f'/content/ICON/results/icon-filter/obj')\n",
        "except:\n",
        "  pass\n",
        "\n",
        "for indx in [5]:#range(output_frame_number):\n",
        "  jpg_file_name = 'frame' + str(indx) + '.jpg'\n",
        "  print(jpg_file_name)\n",
        "\n",
        "  shutil.copy(f'/content/frames/frame{indx}.jpg', f'/content/frame{indx}.jpg')\n",
        "  # pose estimation\n",
        "  print('pose est is executing ...')\n",
        "  try:\n",
        "    est_parameters = run_model_and_get_parameters(jpg_file_name.split('.')[0])\n",
        "  except Exception as e:\n",
        "    est_parameters = ['failed', 'failed']\n"
      ],
      "metadata": {
        "id": "6ELv6g7D24mP"
      },
      "execution_count": null,
      "outputs": []
    },
    {
      "cell_type": "code",
      "source": [
        "# Get experimental data\n",
        "# import pandas as pd\n",
        "\n",
        "experiment_data = pd.read_excel(f'/content/drive/MyDrive/integrating new tech/validation/repetative lifting/exp_repetetive_lifting.xlsx')\n",
        "time_shift_to_sync = 2.0014\n",
        "\n",
        "experiment_data['time'] = experiment_data['time'] + time_shift_to_sync\n",
        "\n",
        "print(experiment_data)"
      ],
      "metadata": {
        "id": "Q2tx1zxwcvS0",
        "colab": {
          "base_uri": "https://localhost:8080/"
        },
        "outputId": "6813a3a5-619d-4179-972c-487143aa1d4a"
      },
      "execution_count": null,
      "outputs": [
        {
          "output_type": "stream",
          "name": "stdout",
          "text": [
            "          time     theta\n",
            "0       2.0014 -4.716038\n",
            "1       2.0214 -4.723479\n",
            "2       2.0414 -4.746595\n",
            "3       2.0614 -4.788182\n",
            "4       2.0814 -4.842878\n",
            "...        ...       ...\n",
            "8690  175.8014  2.036795\n",
            "8691  175.8214  1.996615\n",
            "8692  175.8414  1.962855\n",
            "8693  175.8614  1.923242\n",
            "8694  175.8814  1.873609\n",
            "\n",
            "[8695 rows x 2 columns]\n"
          ]
        }
      ]
    },
    {
      "cell_type": "code",
      "source": [
        "# Get estimated data from the file\n",
        "file_path = os.path.join(destination_dir, file_name)\n",
        "estimated_posture = pd.read_csv(file_path)\n",
        "\n",
        "print(estimated_posture)\n"
      ],
      "metadata": {
        "colab": {
          "base_uri": "https://localhost:8080/"
        },
        "id": "Sr5yPRRGEWqS",
        "outputId": "6916304e-c4b7-419c-bccd-2105b27666e7"
      },
      "execution_count": null,
      "outputs": [
        {
          "output_type": "stream",
          "name": "stdout",
          "text": [
            "    Unnamed: 0       time  frame  flex_pose  dist_pose\n",
            "0            0   0.000000      0   6.206021   1.968540\n",
            "1            1   0.333574      1   4.269791   2.395676\n",
            "2            2   0.667147      2   7.930428   2.617718\n",
            "3            3   1.000721      3   7.202068   3.240889\n",
            "4            4   1.334294      4   6.239369   3.498822\n",
            "..         ...        ...    ...        ...        ...\n",
            "71          71  23.683722     71  16.777386   1.267945\n",
            "72          72  24.017295     72   8.534036   1.536495\n",
            "73          73  24.350869     73   3.808518   2.085311\n",
            "74          74  24.684442     74   6.745300   2.487908\n",
            "75          75  25.018016     75   6.651056   2.579460\n",
            "\n",
            "[76 rows x 5 columns]\n"
          ]
        }
      ]
    },
    {
      "cell_type": "code",
      "source": [
        "# Sync data\n",
        "import numpy as np\n",
        "\n",
        "end_time = np.min([estimated_posture['time'].iloc[-1], experiment_data['time'].iloc[-1]])\n",
        "start_time = np.max([estimated_posture['time'].iloc[0], experiment_data['time'].iloc[0]])\n",
        "\n",
        "dt_exp = experiment_data['time'].iloc[1]-experiment_data['time'].iloc[0]\n",
        "dt_est = estimated_posture['time'].iloc[1] - estimated_posture['time'].iloc[0]\n",
        "\n",
        "# Sync both data\n",
        "if (dt_est) > (dt_exp):\n",
        "  sync_time = np.arange(start_time, end_time, dt_exp)\n",
        "else:\n",
        "  sync_time = np.arange(start_time, end_time, dt_est)\n",
        "\n",
        "sync_theta_exp = np.interp(sync_time, experiment_data['time'].to_numpy(), experiment_data['theta'].to_numpy())\n",
        "sync_theta_est = np.interp(sync_time, estimated_posture['time'].to_numpy(), estimated_posture['flex_pose'].to_numpy())\n",
        "\n"
      ],
      "metadata": {
        "id": "6d1xyFd6Ehrh"
      },
      "execution_count": null,
      "outputs": []
    },
    {
      "cell_type": "code",
      "source": [
        "# Plot data\n",
        "import numpy as np\n",
        "import matplotlib.pyplot as plt\n",
        "from matplotlib import rcParams\n",
        "from sklearn.metrics import mean_squared_error\n",
        "\n",
        "# Set font to Arial and font size to 10\n",
        "rcParams['font.family'] = 'sans-serif'\n",
        "rcParams['font.size'] = 10\n",
        "\n",
        "cm = 2.54\n",
        "# Create the plot\n",
        "fig, ax = plt.subplots(nrows=1, ncols=2, figsize=(18/cm, 8/cm))  # 8cm x 6cm = 3.15in x 2.36in\n",
        "\n",
        "# Plot the data\n",
        "ax[0].plot(sync_time, sync_theta_exp, '--r', label='Experiment')\n",
        "ax[0].plot(sync_time, sync_theta_est, ':b', label='Estimation')\n",
        "\n",
        "# Set the x and y labels\n",
        "ax[0].set_xlabel('Time (s)')\n",
        "ax[0].set_ylabel('Thorax Rotation (deg.)')\n",
        "\n",
        "# Add the legend\n",
        "ax[0].legend()\n",
        "\n",
        "\n",
        "# - - - Correlation plot\n",
        "ax[1].plot(sync_theta_exp, sync_theta_est, 'ok', alpha = 0.95, markersize=0.3)\n",
        "# ax[1].set_xlabel('Thorax Rotation (deg.) - Experiment')\n",
        "\n",
        "# Find the min and max values for x and y axes\n",
        "min_val = min(min(sync_theta_exp), min(sync_theta_est))\n",
        "max_val = max(max(sync_theta_exp), max(sync_theta_est))\n",
        "\n",
        "# Add the unity line (y = x) to the plot\n",
        "ax[1].plot([min_val, max_val], [min_val, max_val], '--g', label='Unity Line')\n",
        "\n",
        "# Make ranges in x and y axes equal\n",
        "ax[1].set_xlim([min_val, max_val])\n",
        "ax[1].set_ylim([min_val, max_val])\n",
        "\n",
        "# Calculate the correlation\n",
        "correlation = np.corrcoef(sync_theta_exp, sync_theta_est)[0, 1]\n",
        "\n",
        "# Calculate the mean squared error\n",
        "mse = mean_squared_error(sync_theta_exp, sync_theta_est)\n",
        "\n",
        "# Add the correlation and MSE to the title of the second plot\n",
        "ax[1].set_title(f\"Correlation: {correlation:.2f}, MSE: {mse:.2f}\")\n",
        "\n",
        "# Axis labels\n",
        "ax[1].set_xlabel('Thorax Rotation (deg.)-Experiment')\n",
        "ax[1].set_ylabel('Thorax Rotation (deg.)-Estimation')\n",
        "\n",
        "# Display the plot\n",
        "plt.tight_layout()\n",
        "plt.show()"
      ],
      "metadata": {
        "colab": {
          "base_uri": "https://localhost:8080/",
          "height": 321
        },
        "id": "sVDYD3zPEmEq",
        "outputId": "8ceb395a-d07b-4bbe-c9b3-f89dd2ced527"
      },
      "execution_count": null,
      "outputs": [
        {
          "output_type": "display_data",
          "data": {
            "text/plain": [
              "<Figure size 708.661x314.961 with 2 Axes>"
            ],
            "image/png": "[encoded data removed]"
          },
          "metadata": {}
        }
      ]
    }
  ],
  "metadata": {
    "accelerator": "GPU",
    "colab": {
      "provenance": [],
      "include_colab_link": true
    },
    "gpuClass": "standard",
    "kernelspec": {
      "display_name": "Python 3",
      "name": "python3"
    },
    "language_info": {
      "name": "python"
    }
  },
  "nbformat": 4,
  "nbformat_minor": 0
}